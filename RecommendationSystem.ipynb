{
  "nbformat": 4,
  "nbformat_minor": 0,
  "metadata": {
    "colab": {
      "provenance": []
    },
    "kernelspec": {
      "name": "python3",
      "display_name": "Python 3"
    },
    "language_info": {
      "name": "python"
    }
  },
  "cells": [
    {
      "cell_type": "code",
      "source": [
        "#link to dataset: https://www.kaggle.com/datasets/jrobischon/wikipedia-movie-plots/data"
      ],
      "metadata": {
        "id": "eI76fNxds2jG"
      },
      "execution_count": null,
      "outputs": []
    },
    {
      "cell_type": "code",
      "execution_count": 12,
      "metadata": {
        "colab": {
          "base_uri": "https://localhost:8080/"
        },
        "id": "xq2748tZpPOA",
        "outputId": "a3ed3b4d-4a80-4754-fb33-c1dc13807a29"
      },
      "outputs": [
        {
          "output_type": "stream",
          "name": "stdout",
          "text": [
            "Enter Query: \"I like action movies set in space\"\n",
            "Top Recommendations:\n",
            "                                              Title  similarity\n",
            "33756  Bodacious Space Pirates: Abyss of Hyperspace    0.268008\n",
            "7121                               Space Master X-7    0.254735\n",
            "4384                                Always Together    0.252315\n",
            "21592                                        Native    0.199724\n",
            "7120                             The Space Children    0.184034\n"
          ]
        }
      ],
      "source": [
        "import pandas as pd\n",
        "from sklearn.feature_extraction.text import TfidfVectorizer\n",
        "from sklearn.metrics.pairwise import cosine_similarity\n",
        "\n",
        "# Loading the dataset\n",
        "df = pd.read_csv('/content/wiki_movie_plots_deduped.csv')\n",
        "\n",
        "# Feature selection: Using only Title and Plot\n",
        "df['combined_features'] = df['Title'] + \" \" + df['Genre'] + \" \" + df['Plot']\n",
        "\n",
        "# User query\n",
        "user_query = input(\"Enter Query: \")\n",
        "\n",
        "# Preprocessing and TF-IDF Vectorization\n",
        "vectorizer = TfidfVectorizer(stop_words='english')\n",
        "movie_vectors = vectorizer.fit_transform(df['combined_features'])\n",
        "query_vector = vectorizer.transform([user_query])\n",
        "\n",
        "# Calculate cosine similarity\n",
        "similarity_scores = cosine_similarity(query_vector, movie_vectors)\n",
        "\n",
        "# Rank movies by similarity\n",
        "df['similarity'] = similarity_scores[0]\n",
        "recommendations = df.sort_values(by='similarity', ascending=False).head(5)\n",
        "\n",
        "# Display results\n",
        "print(\"Top Recommendations:\")\n",
        "print(recommendations[['Title', 'similarity']])"
      ]
    }
  ]
}